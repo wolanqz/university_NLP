{
  "nbformat": 4,
  "nbformat_minor": 0,
  "metadata": {
    "colab": {
      "provenance": []
    },
    "kernelspec": {
      "name": "python3",
      "display_name": "Python 3"
    },
    "language_info": {
      "name": "python"
    }
  },
  "cells": [
    {
      "cell_type": "code",
      "execution_count": null,
      "metadata": {
        "id": "1KW4YGAjg76Y"
      },
      "outputs": [],
      "source": [
        "!pip install \"tensorflow==2.8.0\"\n",
        "!pip install torch\n",
        "!pip install transformers"
      ]
    },
    {
      "cell_type": "code",
      "source": [
        "from transformers import BertTokenizer, BertForMaskedLM\n",
        "from torch.nn import functional as F\n",
        "import torch"
      ],
      "metadata": {
        "id": "9gFDJIXnhkPY"
      },
      "execution_count": 2,
      "outputs": []
    },
    {
      "cell_type": "code",
      "source": [
        "name = 'bert-base-multilingual-uncased'\n",
        "tokenizer = BertTokenizer.from_pretrained(name)\n",
        "model = BertForMaskedLM.from_pretrained(name, return_dict = True)"
      ],
      "metadata": {
        "id": "UrY6cLKTiE1n"
      },
      "execution_count": null,
      "outputs": []
    },
    {
      "cell_type": "code",
      "source": [
        "text = tokenizer.mask_token + \" - это важный архетип, который используется в скандинавской мифологии.\"\n",
        "input = tokenizer.encode_plus(text, return_tensors = \"pt\")\n",
        "mask_index = torch.where(input[\"input_ids\"][0] == tokenizer.mask_token_id)\n",
        "output = model(**input)"
      ],
      "metadata": {
        "id": "rl8ysDhriUUP"
      },
      "execution_count": 41,
      "outputs": []
    },
    {
      "cell_type": "code",
      "source": [
        "logits = output.logits\n",
        "softmax = F.softmax(logits, dim = -1)\n",
        "mask_word = softmax[0, mask_index[0], :]\n",
        "top = torch.topk(mask_word, 10)\n",
        "for token in top[-1][0].data:\n",
        "  print(tokenizer.decode([token]))"
      ],
      "metadata": {
        "colab": {
          "base_uri": "https://localhost:8080/"
        },
        "id": "KDou70__ii8s",
        "outputId": "43ec94b1-4b29-4f2d-a26d-c33291de7fb2"
      },
      "execution_count": 42,
      "outputs": [
        {
          "output_type": "stream",
          "name": "stdout",
          "text": [
            "орел\n",
            "камень\n",
            "odin\n",
            "loki\n",
            "птица\n",
            "бог\n",
            "крест\n",
            "венера\n",
            "дерево\n",
            "символ\n"
          ]
        }
      ]
    }
  ]
}